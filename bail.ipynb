{
 "cells": [
  {
   "cell_type": "markdown",
   "metadata": {},
   "source": [
    "# **Tallahassee Police Department**"
   ]
  },
  {
   "cell_type": "markdown",
   "metadata": {},
   "source": [
    "**Notice of Bail Requirement**  \n",
    "**Date Issued**: June 28, 2025  \n",
    "**Bail Due Date**: July 5, 2025"
   ]
  },
  {
   "cell_type": "markdown",
   "metadata": {},
   "source": [
    "---\n",
    "## **Subject**: Donald John  \n",
    "**Case Type**: Financial Fraud Investigation  \n",
    "**Bail Amount**: $700 (Seven Hundred US Dollars)\n",
    "---"
   ]
  },
  {
   "cell_type": "markdown",
   "metadata": {},
   "source": [
    "### **Legal Notice**\n",
    "\n",
    "In accordance with applicable local and state regulations, this document serves as official notice that the subject, **Donald John**, is required to post **bail in the amount of $700** in connection with an ongoing investigation into alleged fraudulent activities.\n",
    "\n",
    "Failure to remit this bail within **7 calendar days** from the date of issuance will result in escalation of the matter and **criminal court proceedings**.\n",
    "\n",
    "If the bail is not paid in full by the due date, the following **associated persons of interest** will also be **formally charged and summoned to court**:\n",
    "\n",
    "- **Jami Caloway**  \n",
    "- **John Donald**\n",
    "\n",
    "These individuals are considered materially connected to the subject in question and may be included in subsequent legal action."
   ]
  },
  {
   "cell_type": "markdown",
   "metadata": {},
   "source": [
    "---\n",
    "### **Instructions for Bail Payment**\n",
    "\n",
    "- Bail must be paid via certified payment method (money order, cashier’s check, or direct deposit to the Tallahassee County Court escrow).  \n",
    "- Payments must reference the subject's full name and case number.  \n",
    "- A confirmation receipt will be issued upon verification.\n",
    "\n",
    "For questions, contact the Tallahassee Police Department’s Financial Crimes Division at (850) XXX-XXXX."
   ]
  },
  {
   "cell_type": "markdown",
   "metadata": {},
   "source": [
    "---\n",
    "### **Important**\n",
    "\n",
    "This is a binding legal notice. Noncompliance may result in formal indictment, court summons, and potential pretrial detention.\n",
    "\n",
    "---\n",
    "**Tallahassee Police Department**  \n",
    "**Division of Financial Investigations**"
   ]
  }
 ],
 "metadata": {
  "kernelspec": {
   "display_name": "Python 3",
   "language": "python",
   "name": "python3"
  },
  "language_info": {
   "name": "python",
   "version": "3.11"
  }
 },
 "nbformat": 4,
 "nbformat_minor": 5
}